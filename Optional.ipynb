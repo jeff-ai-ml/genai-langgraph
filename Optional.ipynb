{
  "nbformat": 4,
  "nbformat_minor": 0,
  "metadata": {
    "colab": {
      "provenance": [],
      "authorship_tag": "ABX9TyMVxnQImf0AOJIp3WXw/2Ch",
      "include_colab_link": true
    },
    "kernelspec": {
      "name": "python3",
      "display_name": "Python 3"
    },
    "language_info": {
      "name": "python"
    }
  },
  "cells": [
    {
      "cell_type": "markdown",
      "metadata": {
        "id": "view-in-github",
        "colab_type": "text"
      },
      "source": [
        "<a href=\"https://colab.research.google.com/github/jeff-ai-ml/genai-langgraph/blob/main/Optional.ipynb\" target=\"_parent\"><img src=\"https://colab.research.google.com/assets/colab-badge.svg\" alt=\"Open In Colab\"/></a>"
      ]
    },
    {
      "cell_type": "markdown",
      "source": [
        "● In this case “name” can be either String or None!\n",
        "\n",
        "● It cannot be anything else\n",
        "\n",
        "---\n",
        "\n"
      ],
      "metadata": {
        "id": "zYrg8o85BgMU"
      }
    },
    {
      "cell_type": "code",
      "execution_count": 10,
      "metadata": {
        "id": "kDkgjS0BBZ4_"
      },
      "outputs": [],
      "source": [
        "from typing import Optional"
      ]
    },
    {
      "cell_type": "code",
      "source": [
        "from typing import Optional\n",
        "\n",
        "def print_welcome(name: Optional[str] = None):\n",
        "  if name is None:\n",
        "    print(\"Hello new person! Welcome!!\")\n",
        "  elif isinstance(name, str):\n",
        "    print(f\"Hello {name} ! Welcome!!\")\n",
        "  else:\n",
        "    print(\"Error input : Name should be string\")\n"
      ],
      "metadata": {
        "id": "XPKpWyNIBmvb"
      },
      "execution_count": 17,
      "outputs": []
    },
    {
      "cell_type": "code",
      "source": [
        "print_welcome()"
      ],
      "metadata": {
        "colab": {
          "base_uri": "https://localhost:8080/"
        },
        "id": "HzeNDiyRDBZx",
        "outputId": "453457e5-0dd2-481e-8f65-e2925698d41f"
      },
      "execution_count": 18,
      "outputs": [
        {
          "output_type": "stream",
          "name": "stdout",
          "text": [
            "Hello new person! Welcome!!\n"
          ]
        }
      ]
    },
    {
      "cell_type": "code",
      "source": [
        "print_welcome(\"Bob\")"
      ],
      "metadata": {
        "colab": {
          "base_uri": "https://localhost:8080/"
        },
        "id": "US4MEWUOEMFw",
        "outputId": "8ae4fe99-514e-4c91-c924-384683eaae10"
      },
      "execution_count": 19,
      "outputs": [
        {
          "output_type": "stream",
          "name": "stdout",
          "text": [
            "Hello Bob ! Welcome!!\n"
          ]
        }
      ]
    }
  ]
}