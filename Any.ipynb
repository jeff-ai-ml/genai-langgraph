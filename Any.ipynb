{
  "nbformat": 4,
  "nbformat_minor": 0,
  "metadata": {
    "colab": {
      "provenance": [],
      "authorship_tag": "ABX9TyMsQRprUX05m76FjBCrJTtf",
      "include_colab_link": true
    },
    "kernelspec": {
      "name": "python3",
      "display_name": "Python 3"
    },
    "language_info": {
      "name": "python"
    }
  },
  "cells": [
    {
      "cell_type": "markdown",
      "metadata": {
        "id": "view-in-github",
        "colab_type": "text"
      },
      "source": [
        "<a href=\"https://colab.research.google.com/github/jeff-ai-ml/genai-langgraph/blob/main/Any.ipynb\" target=\"_parent\"><img src=\"https://colab.research.google.com/assets/colab-badge.svg\" alt=\"Open In Colab\"/></a>"
      ]
    },
    {
      "cell_type": "markdown",
      "source": [
        "● Anything and everything is allowed!"
      ],
      "metadata": {
        "id": "eSfexILKF6-1"
      }
    },
    {
      "cell_type": "code",
      "execution_count": 2,
      "metadata": {
        "id": "3VHm_WDtF5Qo"
      },
      "outputs": [],
      "source": [
        "from typing import Any\n",
        "\n",
        "def print_everything(x: Any):\n",
        "  print(x)"
      ]
    },
    {
      "cell_type": "code",
      "source": [
        "print_everything(\"Hey hello\")"
      ],
      "metadata": {
        "colab": {
          "base_uri": "https://localhost:8080/"
        },
        "id": "NlYiJzTZGQ7N",
        "outputId": "c4055a36-5cc7-4d2a-c7e9-62c821d59f17"
      },
      "execution_count": 3,
      "outputs": [
        {
          "output_type": "stream",
          "name": "stdout",
          "text": [
            "Hey hello\n"
          ]
        }
      ]
    },
    {
      "cell_type": "code",
      "source": [
        "print_everything(10)"
      ],
      "metadata": {
        "colab": {
          "base_uri": "https://localhost:8080/"
        },
        "id": "LxjGX8bGGVtc",
        "outputId": "dc3c14d6-d47a-4e53-b26d-fb01d46733d7"
      },
      "execution_count": 4,
      "outputs": [
        {
          "output_type": "stream",
          "name": "stdout",
          "text": [
            "10\n"
          ]
        }
      ]
    }
  ]
}