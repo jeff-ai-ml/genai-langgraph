{
  "nbformat": 4,
  "nbformat_minor": 0,
  "metadata": {
    "colab": {
      "provenance": [],
      "authorship_tag": "ABX9TyP73SQcfc3BhSSJENxKZ6Xl",
      "include_colab_link": true
    },
    "kernelspec": {
      "name": "python3",
      "display_name": "Python 3"
    },
    "language_info": {
      "name": "python"
    }
  },
  "cells": [
    {
      "cell_type": "markdown",
      "metadata": {
        "id": "view-in-github",
        "colab_type": "text"
      },
      "source": [
        "<a href=\"https://colab.research.google.com/github/jeff-ai-ml/genai-langgraph/blob/main/Exercise_5_Guess_Number_Game.ipynb\" target=\"_parent\"><img src=\"https://colab.research.google.com/assets/colab-badge.svg\" alt=\"Open In Colab\"/></a>"
      ]
    },
    {
      "cell_type": "code",
      "execution_count": 1,
      "metadata": {
        "id": "2MuXXg_F_2NB",
        "colab": {
          "base_uri": "https://localhost:8080/"
        },
        "outputId": "933a8bd3-d697-439a-f7e6-19014fdf157a"
      },
      "outputs": [
        {
          "output_type": "stream",
          "name": "stdout",
          "text": [
            "Collecting langgraph\n",
            "  Downloading langgraph-0.6.5-py3-none-any.whl.metadata (6.8 kB)\n",
            "Requirement already satisfied: langchain-core>=0.1 in /usr/local/lib/python3.11/dist-packages (from langgraph) (0.3.74)\n",
            "Collecting langgraph-checkpoint<3.0.0,>=2.1.0 (from langgraph)\n",
            "  Downloading langgraph_checkpoint-2.1.1-py3-none-any.whl.metadata (4.2 kB)\n",
            "Collecting langgraph-prebuilt<0.7.0,>=0.6.0 (from langgraph)\n",
            "  Downloading langgraph_prebuilt-0.6.4-py3-none-any.whl.metadata (4.5 kB)\n",
            "Collecting langgraph-sdk<0.3.0,>=0.2.0 (from langgraph)\n",
            "  Downloading langgraph_sdk-0.2.0-py3-none-any.whl.metadata (1.5 kB)\n",
            "Requirement already satisfied: pydantic>=2.7.4 in /usr/local/lib/python3.11/dist-packages (from langgraph) (2.11.7)\n",
            "Requirement already satisfied: xxhash>=3.5.0 in /usr/local/lib/python3.11/dist-packages (from langgraph) (3.5.0)\n",
            "Requirement already satisfied: langsmith>=0.3.45 in /usr/local/lib/python3.11/dist-packages (from langchain-core>=0.1->langgraph) (0.4.14)\n",
            "Requirement already satisfied: tenacity!=8.4.0,<10.0.0,>=8.1.0 in /usr/local/lib/python3.11/dist-packages (from langchain-core>=0.1->langgraph) (9.1.2)\n",
            "Requirement already satisfied: jsonpatch<2.0,>=1.33 in /usr/local/lib/python3.11/dist-packages (from langchain-core>=0.1->langgraph) (1.33)\n",
            "Requirement already satisfied: PyYAML>=5.3 in /usr/local/lib/python3.11/dist-packages (from langchain-core>=0.1->langgraph) (6.0.2)\n",
            "Requirement already satisfied: typing-extensions>=4.7 in /usr/local/lib/python3.11/dist-packages (from langchain-core>=0.1->langgraph) (4.14.1)\n",
            "Requirement already satisfied: packaging>=23.2 in /usr/local/lib/python3.11/dist-packages (from langchain-core>=0.1->langgraph) (25.0)\n",
            "Collecting ormsgpack>=1.10.0 (from langgraph-checkpoint<3.0.0,>=2.1.0->langgraph)\n",
            "  Downloading ormsgpack-1.10.0-cp311-cp311-manylinux_2_17_x86_64.manylinux2014_x86_64.whl.metadata (43 kB)\n",
            "\u001b[2K     \u001b[90m━━━━━━━━━━━━━━━━━━━━━━━━━━━━━━━━━━━━━━━━\u001b[0m \u001b[32m43.7/43.7 kB\u001b[0m \u001b[31m1.9 MB/s\u001b[0m eta \u001b[36m0:00:00\u001b[0m\n",
            "\u001b[?25hRequirement already satisfied: httpx>=0.25.2 in /usr/local/lib/python3.11/dist-packages (from langgraph-sdk<0.3.0,>=0.2.0->langgraph) (0.28.1)\n",
            "Requirement already satisfied: orjson>=3.10.1 in /usr/local/lib/python3.11/dist-packages (from langgraph-sdk<0.3.0,>=0.2.0->langgraph) (3.11.2)\n",
            "Requirement already satisfied: annotated-types>=0.6.0 in /usr/local/lib/python3.11/dist-packages (from pydantic>=2.7.4->langgraph) (0.7.0)\n",
            "Requirement already satisfied: pydantic-core==2.33.2 in /usr/local/lib/python3.11/dist-packages (from pydantic>=2.7.4->langgraph) (2.33.2)\n",
            "Requirement already satisfied: typing-inspection>=0.4.0 in /usr/local/lib/python3.11/dist-packages (from pydantic>=2.7.4->langgraph) (0.4.1)\n",
            "Requirement already satisfied: anyio in /usr/local/lib/python3.11/dist-packages (from httpx>=0.25.2->langgraph-sdk<0.3.0,>=0.2.0->langgraph) (4.10.0)\n",
            "Requirement already satisfied: certifi in /usr/local/lib/python3.11/dist-packages (from httpx>=0.25.2->langgraph-sdk<0.3.0,>=0.2.0->langgraph) (2025.8.3)\n",
            "Requirement already satisfied: httpcore==1.* in /usr/local/lib/python3.11/dist-packages (from httpx>=0.25.2->langgraph-sdk<0.3.0,>=0.2.0->langgraph) (1.0.9)\n",
            "Requirement already satisfied: idna in /usr/local/lib/python3.11/dist-packages (from httpx>=0.25.2->langgraph-sdk<0.3.0,>=0.2.0->langgraph) (3.10)\n",
            "Requirement already satisfied: h11>=0.16 in /usr/local/lib/python3.11/dist-packages (from httpcore==1.*->httpx>=0.25.2->langgraph-sdk<0.3.0,>=0.2.0->langgraph) (0.16.0)\n",
            "Requirement already satisfied: jsonpointer>=1.9 in /usr/local/lib/python3.11/dist-packages (from jsonpatch<2.0,>=1.33->langchain-core>=0.1->langgraph) (3.0.0)\n",
            "Requirement already satisfied: requests-toolbelt>=1.0.0 in /usr/local/lib/python3.11/dist-packages (from langsmith>=0.3.45->langchain-core>=0.1->langgraph) (1.0.0)\n",
            "Requirement already satisfied: requests>=2.0.0 in /usr/local/lib/python3.11/dist-packages (from langsmith>=0.3.45->langchain-core>=0.1->langgraph) (2.32.3)\n",
            "Requirement already satisfied: zstandard>=0.23.0 in /usr/local/lib/python3.11/dist-packages (from langsmith>=0.3.45->langchain-core>=0.1->langgraph) (0.23.0)\n",
            "Requirement already satisfied: charset-normalizer<4,>=2 in /usr/local/lib/python3.11/dist-packages (from requests>=2.0.0->langsmith>=0.3.45->langchain-core>=0.1->langgraph) (3.4.3)\n",
            "Requirement already satisfied: urllib3<3,>=1.21.1 in /usr/local/lib/python3.11/dist-packages (from requests>=2.0.0->langsmith>=0.3.45->langchain-core>=0.1->langgraph) (2.5.0)\n",
            "Requirement already satisfied: sniffio>=1.1 in /usr/local/lib/python3.11/dist-packages (from anyio->httpx>=0.25.2->langgraph-sdk<0.3.0,>=0.2.0->langgraph) (1.3.1)\n",
            "Downloading langgraph-0.6.5-py3-none-any.whl (153 kB)\n",
            "\u001b[2K   \u001b[90m━━━━━━━━━━━━━━━━━━━━━━━━━━━━━━━━━━━━━━━━\u001b[0m \u001b[32m153.2/153.2 kB\u001b[0m \u001b[31m6.4 MB/s\u001b[0m eta \u001b[36m0:00:00\u001b[0m\n",
            "\u001b[?25hDownloading langgraph_checkpoint-2.1.1-py3-none-any.whl (43 kB)\n",
            "\u001b[2K   \u001b[90m━━━━━━━━━━━━━━━━━━━━━━━━━━━━━━━━━━━━━━━━\u001b[0m \u001b[32m43.9/43.9 kB\u001b[0m \u001b[31m3.7 MB/s\u001b[0m eta \u001b[36m0:00:00\u001b[0m\n",
            "\u001b[?25hDownloading langgraph_prebuilt-0.6.4-py3-none-any.whl (28 kB)\n",
            "Downloading langgraph_sdk-0.2.0-py3-none-any.whl (50 kB)\n",
            "\u001b[2K   \u001b[90m━━━━━━━━━━━━━━━━━━━━━━━━━━━━━━━━━━━━━━━━\u001b[0m \u001b[32m50.6/50.6 kB\u001b[0m \u001b[31m3.1 MB/s\u001b[0m eta \u001b[36m0:00:00\u001b[0m\n",
            "\u001b[?25hDownloading ormsgpack-1.10.0-cp311-cp311-manylinux_2_17_x86_64.manylinux2014_x86_64.whl (216 kB)\n",
            "\u001b[2K   \u001b[90m━━━━━━━━━━━━━━━━━━━━━━━━━━━━━━━━━━━━━━━━\u001b[0m \u001b[32m216.5/216.5 kB\u001b[0m \u001b[31m13.1 MB/s\u001b[0m eta \u001b[36m0:00:00\u001b[0m\n",
            "\u001b[?25hInstalling collected packages: ormsgpack, langgraph-sdk, langgraph-checkpoint, langgraph-prebuilt, langgraph\n",
            "Successfully installed langgraph-0.6.5 langgraph-checkpoint-2.1.1 langgraph-prebuilt-0.6.4 langgraph-sdk-0.2.0 ormsgpack-1.10.0\n"
          ]
        }
      ],
      "source": [
        "!pip install langgraph"
      ]
    },
    {
      "cell_type": "code",
      "source": [
        "from typing import TypedDict, List , Dict\n",
        "import random\n",
        "from langgraph.graph import StateGraph,START, END"
      ],
      "metadata": {
        "id": "AlvNsAuMvqPm"
      },
      "execution_count": 22,
      "outputs": []
    },
    {
      "cell_type": "code",
      "source": [
        "class AgentState(TypedDict):\n",
        "  player_name : str\n",
        "  guesses : List[int]\n",
        "  attempts : int\n",
        "  lower_bound : int\n",
        "  upper_bound : int\n",
        "  counter : int\n",
        "  input_number : int\n",
        "  guess_number : int\n"
      ],
      "metadata": {
        "id": "WLfH5ijSwSyo"
      },
      "execution_count": 23,
      "outputs": []
    },
    {
      "cell_type": "code",
      "source": [
        "def setup_node(state:AgentState) -> AgentState:\n",
        "  \"\"\"Setup All the parameters in this node\"\"\"\n",
        "  state['input_number'] = 13\n",
        "  state['attempts'] = 7\n",
        "  state['lower_bound'] = 1\n",
        "  state['upper_bound'] = 20\n",
        "  state['counter'] = 1\n",
        "\n",
        "  print(f\"Hello player {state['player_name']}!!. Lets see our graph can find the input number {state['input_number']} or not!!\")\n",
        "\n",
        "  return state\n",
        "\n"
      ],
      "metadata": {
        "id": "tUbKn8zMxeMg"
      },
      "execution_count": 25,
      "outputs": []
    },
    {
      "cell_type": "code",
      "source": [
        "def guess_node(state:AgentState) -> AgentState:\n",
        "  \"\"\"This node will do only the guessing\"\"\"\n",
        "  #print(f\"Current Upper bound value is {state['upper_bound']}\")\n",
        "  #print(f\"Current Lower bound value is {state['lower_bound']}\")\n",
        "  state['guess_number'] = random.randint(state['lower_bound'],state['upper_bound'])\n",
        "  print(f\"The guess number {state['counter']} is {state['guess_number']}\")\n",
        "  state['guesses'].append(state['guess_number'])\n",
        "  state['counter'] += 1\n",
        "  state['attempts'] -= 1\n",
        "  return state\n",
        "\n"
      ],
      "metadata": {
        "id": "mqKL27IjAtuN"
      },
      "execution_count": 27,
      "outputs": []
    },
    {
      "cell_type": "code",
      "source": [
        "def hint_node(state:AgentState) -> AgentState:\n",
        "  \"\"\"This node will give the hint to the graph if it guessed wrong number\"\"\"\n",
        "  if state['guess_number'] > state['input_number']:\n",
        "    print(f\"Please guess a number less than {state['guess_number']}\")\n",
        "    state['upper_bound'] = state['guess_number'] - 1\n",
        "    return state\n",
        "  else:\n",
        "    print(f\"Please guess a number greater than {state['guess_number']}\")\n",
        "    state['lower_bound'] = state['guess_number'] + 1\n",
        "    return state"
      ],
      "metadata": {
        "id": "ZCS1mZSSCMHL"
      },
      "execution_count": 28,
      "outputs": []
    },
    {
      "cell_type": "code",
      "source": [
        "def should_continue(state:AgentState) -> AgentState:\n",
        "  if state['input_number'] == state['guess_number']:\n",
        "    print(f\"You guessed the number in Attempt : {state['counter']} and the Guess attempted : {state['guesses']}\")\n",
        "    return \"go_to_end\"\n",
        "  else:\n",
        "    if state['attempts'] == 0:\n",
        "      print(\"No more attempts left and the Guess attempted : {state['guesses']}\")\n",
        "      return \"go_to_end\"\n",
        "    else:\n",
        "      return \"go_to_guess_node\""
      ],
      "metadata": {
        "id": "3NqJNEKkzBxa"
      },
      "execution_count": 29,
      "outputs": []
    },
    {
      "cell_type": "code",
      "source": [
        "graph = StateGraph(AgentState)\n",
        "\n",
        "graph.add_node(\"setup node\", setup_node)\n",
        "graph.add_node(\"guess node\", guess_node)\n",
        "graph.add_node(\"hint node\", hint_node)\n",
        "\n",
        "\n",
        "graph.add_edge(\"setup node\", \"guess node\")\n",
        "graph.add_edge(\"guess node\", \"hint node\")\n",
        "\n",
        "graph.add_conditional_edges(\n",
        "    \"hint node\",\n",
        "    should_continue,\n",
        "    {\n",
        "        \"go_to_guess_node\" : \"guess node\",\n",
        "        \"go_to_end\" : END\n",
        "    }\n",
        ")\n",
        "\n",
        "graph.set_entry_point(\"setup node\")\n",
        "\n",
        "app = graph.compile()\n"
      ],
      "metadata": {
        "id": "B5btGv-SEJUj"
      },
      "execution_count": 30,
      "outputs": []
    },
    {
      "cell_type": "code",
      "source": [
        "graph_code = app.get_graph().draw_mermaid()  # This gives you the raw Mermaid text\n",
        "print(graph_code)"
      ],
      "metadata": {
        "colab": {
          "base_uri": "https://localhost:8080/"
        },
        "id": "3S96eec7M_y0",
        "outputId": "d149e677-27db-4db7-fb4c-919384d28615"
      },
      "execution_count": 31,
      "outputs": [
        {
          "output_type": "stream",
          "name": "stdout",
          "text": [
            "---\n",
            "config:\n",
            "  flowchart:\n",
            "    curve: linear\n",
            "---\n",
            "graph TD;\n",
            "\t__start__([<p>__start__</p>]):::first\n",
            "\tsetup_node(setup node)\n",
            "\tguess_node(guess node)\n",
            "\thint_node(hint node)\n",
            "\t__end__([<p>__end__</p>]):::last\n",
            "\t__start__ --> setup_node;\n",
            "\tguess_node --> hint_node;\n",
            "\thint_node -. &nbsp;go_to_end&nbsp; .-> __end__;\n",
            "\thint_node -. &nbsp;go_to_guess_node&nbsp; .-> guess_node;\n",
            "\tsetup_node --> guess_node;\n",
            "\tclassDef default fill:#f2f0ff,line-height:1.2\n",
            "\tclassDef first fill-opacity:0\n",
            "\tclassDef last fill:#bfb6fc\n",
            "\n"
          ]
        }
      ]
    },
    {
      "cell_type": "code",
      "source": [
        "from IPython.display import Image, display\n",
        "display(Image(app.get_graph().draw_mermaid_png()))"
      ],
      "metadata": {
        "colab": {
          "base_uri": "https://localhost:8080/",
          "height": 497
        },
        "id": "JBuD2bY4NCi2",
        "outputId": "5389846f-5c9c-4d35-b799-71f045200f88"
      },
      "execution_count": 32,
      "outputs": [
        {
          "output_type": "display_data",
          "data": {
            "image/png": "[encoded data removed]",
            "text/plain": [
              "<IPython.core.display.Image object>"
            ]
          },
          "metadata": {}
        }
      ]
    },
    {
      "cell_type": "code",
      "source": [
        "start_game = AgentState(player_name = \"Jeff\" , guesses = [], attempts = 0 , lower_bound = 1 , upper_bound = 20)\n",
        "result = app.invoke(start_game)"
      ],
      "metadata": {
        "colab": {
          "base_uri": "https://localhost:8080/"
        },
        "id": "sszPG1ubNEl9",
        "outputId": "942e1ab4-d711-4565-d8eb-09128fae4934"
      },
      "execution_count": 33,
      "outputs": [
        {
          "output_type": "stream",
          "name": "stdout",
          "text": [
            "Hello player Jeff!!. Lets see our graph can find the input number 13 or not!!\n",
            "The guess number 1 is 19\n",
            "Please guess a number less than 19\n",
            "The guess number 2 is 17\n",
            "Please guess a number less than 17\n",
            "The guess number 3 is 15\n",
            "Please guess a number less than 15\n",
            "The guess number 4 is 11\n",
            "Please guess a number greater than 11\n",
            "The guess number 5 is 13\n",
            "Please guess a number greater than 13\n",
            "You guessed the number in Attempt : 6 and the Guess attempted : [19, 17, 15, 11, 13]\n"
          ]
        }
      ]
    },
    {
      "cell_type": "code",
      "source": [],
      "metadata": {
        "id": "wmd8Lnm0PKMK"
      },
      "execution_count": null,
      "outputs": []
    }
  ]
}