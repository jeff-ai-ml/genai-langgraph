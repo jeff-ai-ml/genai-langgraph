{
  "nbformat": 4,
  "nbformat_minor": 0,
  "metadata": {
    "colab": {
      "provenance": [],
      "authorship_tag": "ABX9TyM/BSY1kpL7NtLA9lvHym54",
      "include_colab_link": true
    },
    "kernelspec": {
      "name": "python3",
      "display_name": "Python 3"
    },
    "language_info": {
      "name": "python"
    }
  },
  "cells": [
    {
      "cell_type": "markdown",
      "metadata": {
        "id": "view-in-github",
        "colab_type": "text"
      },
      "source": [
        "<a href=\"https://colab.research.google.com/github/jeff-ai-ml/genai-langgraph/blob/main/TypedDict.ipynb\" target=\"_parent\"><img src=\"https://colab.research.google.com/assets/colab-badge.svg\" alt=\"Open In Colab\"/></a>"
      ]
    },
    {
      "cell_type": "code",
      "execution_count": 1,
      "metadata": {
        "id": "WAcLlVUJgCGF"
      },
      "outputs": [],
      "source": [
        "from typing import TypedDict"
      ]
    },
    {
      "cell_type": "code",
      "source": [
        "#Define TypedDict class\n",
        "class Sports(TypedDict):\n",
        "  name: str\n",
        "  players : int\n",
        "  sports_type : str"
      ],
      "metadata": {
        "id": "-dGomOyKgO0M"
      },
      "execution_count": 2,
      "outputs": []
    },
    {
      "cell_type": "code",
      "source": [
        "# You can create Typed Dict of your needs using this TypedDict class\n",
        "\n",
        "cricket_dict = Sports(name=\"Cricker\", players=12, sports_type=\"Team Sports\")\n",
        "boxing = Sports(name=\"Boxing\", players=2, sports_type=\"Individual Sports\")"
      ],
      "metadata": {
        "id": "4BFSNcvag9So"
      },
      "execution_count": 6,
      "outputs": []
    },
    {
      "cell_type": "code",
      "source": [
        "print(type(cricket_dict))\n",
        "\n",
        "for key,value in boxing.items():\n",
        "  print(f\"Key : {key}\")\n",
        "  print(f\"Value : {value}\")\n",
        "  print(\"\\n\")"
      ],
      "metadata": {
        "colab": {
          "base_uri": "https://localhost:8080/"
        },
        "id": "ViTfamNog9R4",
        "outputId": "b6106996-25d5-43e2-b667-dcc9334ad8db"
      },
      "execution_count": 12,
      "outputs": [
        {
          "output_type": "stream",
          "name": "stdout",
          "text": [
            "<class 'dict'>\n",
            "Key : name\n",
            "Value : Boxing\n",
            "\n",
            "\n",
            "Key : players\n",
            "Value : 2\n",
            "\n",
            "\n",
            "Key : sports_type\n",
            "Value : Individual Sports\n",
            "\n",
            "\n"
          ]
        }
      ]
    },
    {
      "cell_type": "code",
      "source": [],
      "metadata": {
        "id": "B2irzcU0hpdj"
      },
      "execution_count": null,
      "outputs": []
    }
  ]
}