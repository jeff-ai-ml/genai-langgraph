{
  "nbformat": 4,
  "nbformat_minor": 0,
  "metadata": {
    "colab": {
      "provenance": [],
      "authorship_tag": "ABX9TyO86JRyRAS3TYMs62wWZjgZ",
      "include_colab_link": true
    },
    "kernelspec": {
      "name": "python3",
      "display_name": "Python 3"
    },
    "language_info": {
      "name": "python"
    }
  },
  "cells": [
    {
      "cell_type": "markdown",
      "metadata": {
        "id": "view-in-github",
        "colab_type": "text"
      },
      "source": [
        "<a href=\"https://colab.research.google.com/github/jeff-ai-ml/genai-langgraph/blob/main/Clean_RAG_Agent.ipynb\" target=\"_parent\"><img src=\"https://colab.research.google.com/assets/colab-badge.svg\" alt=\"Open In Colab\"/></a>"
      ]
    },
    {
      "cell_type": "code",
      "execution_count": 1,
      "metadata": {
        "colab": {
          "base_uri": "https://localhost:8080/"
        },
        "id": "mg9x54Z3KI4b",
        "outputId": "cc77fcea-9aca-4346-e780-286b0833af1d"
      },
      "outputs": [
        {
          "output_type": "stream",
          "name": "stdout",
          "text": [
            "\u001b[?25l     \u001b[90m━━━━━━━━━━━━━━━━━━━━━━━━━━━━━━━━━━━━━━━━\u001b[0m \u001b[32m0.0/67.3 kB\u001b[0m \u001b[31m?\u001b[0m eta \u001b[36m-:--:--\u001b[0m\r\u001b[2K     \u001b[90m━━━━━━━━━━━━━━━━━━━━━━━━━━━━━━━━━━━━━━━━\u001b[0m \u001b[32m67.3/67.3 kB\u001b[0m \u001b[31m4.9 MB/s\u001b[0m eta \u001b[36m0:00:00\u001b[0m\n",
            "\u001b[?25h  Installing build dependencies ... \u001b[?25l\u001b[?25hdone\n",
            "  Getting requirements to build wheel ... \u001b[?25l\u001b[?25hdone\n",
            "  Preparing metadata (pyproject.toml) ... \u001b[?25l\u001b[?25hdone\n",
            "\u001b[2K     \u001b[90m━━━━━━━━━━━━━━━━━━━━━━━━━━━━━━━━━━━━━━━━\u001b[0m \u001b[32m43.7/43.7 kB\u001b[0m \u001b[31m3.7 MB/s\u001b[0m eta \u001b[36m0:00:00\u001b[0m\n",
            "\u001b[2K   \u001b[90m━━━━━━━━━━━━━━━━━━━━━━━━━━━━━━━━━━━━━━━━\u001b[0m \u001b[32m153.3/153.3 kB\u001b[0m \u001b[31m10.0 MB/s\u001b[0m eta \u001b[36m0:00:00\u001b[0m\n",
            "\u001b[2K   \u001b[90m━━━━━━━━━━━━━━━━━━━━━━━━━━━━━━━━━━━━━━━━\u001b[0m \u001b[32m74.5/74.5 kB\u001b[0m \u001b[31m5.9 MB/s\u001b[0m eta \u001b[36m0:00:00\u001b[0m\n",
            "\u001b[2K   \u001b[90m━━━━━━━━━━━━━━━━━━━━━━━━━━━━━━━━━━━━━━━━\u001b[0m \u001b[32m2.5/2.5 MB\u001b[0m \u001b[31m60.3 MB/s\u001b[0m eta \u001b[36m0:00:00\u001b[0m\n",
            "\u001b[2K   \u001b[90m━━━━━━━━━━━━━━━━━━━━━━━━━━━━━━━━━━━━━━━━\u001b[0m \u001b[32m310.5/310.5 kB\u001b[0m \u001b[31m20.9 MB/s\u001b[0m eta \u001b[36m0:00:00\u001b[0m\n",
            "\u001b[2K   \u001b[90m━━━━━━━━━━━━━━━━━━━━━━━━━━━━━━━━━━━━━━━━\u001b[0m \u001b[32m19.8/19.8 MB\u001b[0m \u001b[31m87.8 MB/s\u001b[0m eta \u001b[36m0:00:00\u001b[0m\n",
            "\u001b[2K   \u001b[90m━━━━━━━━━━━━━━━━━━━━━━━━━━━━━━━━━━━━━━━━\u001b[0m \u001b[32m43.9/43.9 kB\u001b[0m \u001b[31m3.2 MB/s\u001b[0m eta \u001b[36m0:00:00\u001b[0m\n",
            "\u001b[2K   \u001b[90m━━━━━━━━━━━━━━━━━━━━━━━━━━━━━━━━━━━━━━━━\u001b[0m \u001b[32m52.6/52.6 kB\u001b[0m \u001b[31m3.7 MB/s\u001b[0m eta \u001b[36m0:00:00\u001b[0m\n",
            "\u001b[2K   \u001b[90m━━━━━━━━━━━━━━━━━━━━━━━━━━━━━━━━━━━━━━━━\u001b[0m \u001b[32m284.2/284.2 kB\u001b[0m \u001b[31m20.7 MB/s\u001b[0m eta \u001b[36m0:00:00\u001b[0m\n",
            "\u001b[2K   \u001b[90m━━━━━━━━━━━━━━━━━━━━━━━━━━━━━━━━━━━━━━━━\u001b[0m \u001b[32m1.9/1.9 MB\u001b[0m \u001b[31m71.9 MB/s\u001b[0m eta \u001b[36m0:00:00\u001b[0m\n",
            "\u001b[2K   \u001b[90m━━━━━━━━━━━━━━━━━━━━━━━━━━━━━━━━━━━━━━━━\u001b[0m \u001b[32m50.9/50.9 kB\u001b[0m \u001b[31m3.4 MB/s\u001b[0m eta \u001b[36m0:00:00\u001b[0m\n",
            "\u001b[2K   \u001b[90m━━━━━━━━━━━━━━━━━━━━━━━━━━━━━━━━━━━━━━━━\u001b[0m \u001b[32m103.3/103.3 kB\u001b[0m \u001b[31m9.0 MB/s\u001b[0m eta \u001b[36m0:00:00\u001b[0m\n",
            "\u001b[2K   \u001b[90m━━━━━━━━━━━━━━━━━━━━━━━━━━━━━━━━━━━━━━━━\u001b[0m \u001b[32m16.5/16.5 MB\u001b[0m \u001b[31m91.2 MB/s\u001b[0m eta \u001b[36m0:00:00\u001b[0m\n",
            "\u001b[2K   \u001b[90m━━━━━━━━━━━━━━━━━━━━━━━━━━━━━━━━━━━━━━━━\u001b[0m \u001b[32m72.5/72.5 kB\u001b[0m \u001b[31m5.8 MB/s\u001b[0m eta \u001b[36m0:00:00\u001b[0m\n",
            "\u001b[2K   \u001b[90m━━━━━━━━━━━━━━━━━━━━━━━━━━━━━━━━━━━━━━━━\u001b[0m \u001b[32m216.7/216.7 kB\u001b[0m \u001b[31m17.6 MB/s\u001b[0m eta \u001b[36m0:00:00\u001b[0m\n",
            "\u001b[2K   \u001b[90m━━━━━━━━━━━━━━━━━━━━━━━━━━━━━━━━━━━━━━━━\u001b[0m \u001b[32m105.4/105.4 kB\u001b[0m \u001b[31m7.8 MB/s\u001b[0m eta \u001b[36m0:00:00\u001b[0m\n",
            "\u001b[2K   \u001b[90m━━━━━━━━━━━━━━━━━━━━━━━━━━━━━━━━━━━━━━━━\u001b[0m \u001b[32m71.6/71.6 kB\u001b[0m \u001b[31m4.8 MB/s\u001b[0m eta \u001b[36m0:00:00\u001b[0m\n",
            "\u001b[2K   \u001b[90m━━━━━━━━━━━━━━━━━━━━━━━━━━━━━━━━━━━━━━━━\u001b[0m \u001b[32m510.8/510.8 kB\u001b[0m \u001b[31m31.9 MB/s\u001b[0m eta \u001b[36m0:00:00\u001b[0m\n",
            "\u001b[2K   \u001b[90m━━━━━━━━━━━━━━━━━━━━━━━━━━━━━━━━━━━━━━━━\u001b[0m \u001b[32m4.7/4.7 MB\u001b[0m \u001b[31m101.3 MB/s\u001b[0m eta \u001b[36m0:00:00\u001b[0m\n",
            "\u001b[2K   \u001b[90m━━━━━━━━━━━━━━━━━━━━━━━━━━━━━━━━━━━━━━━━\u001b[0m \u001b[32m452.2/452.2 kB\u001b[0m \u001b[31m32.0 MB/s\u001b[0m eta \u001b[36m0:00:00\u001b[0m\n",
            "\u001b[2K   \u001b[90m━━━━━━━━━━━━━━━━━━━━━━━━━━━━━━━━━━━━━━━━\u001b[0m \u001b[32m46.0/46.0 kB\u001b[0m \u001b[31m3.2 MB/s\u001b[0m eta \u001b[36m0:00:00\u001b[0m\n",
            "\u001b[2K   \u001b[90m━━━━━━━━━━━━━━━━━━━━━━━━━━━━━━━━━━━━━━━━\u001b[0m \u001b[32m86.8/86.8 kB\u001b[0m \u001b[31m6.8 MB/s\u001b[0m eta \u001b[36m0:00:00\u001b[0m\n",
            "\u001b[?25h  Building wheel for pypika (pyproject.toml) ... \u001b[?25l\u001b[?25hdone\n"
          ]
        }
      ],
      "source": [
        "# Install dependencies\n",
        "!pip install -q langchain langgraph openai langchain_openai langchain-community langchain-chroma pypdf\n"
      ]
    },
    {
      "cell_type": "code",
      "source": [
        "# -----------------------------\n",
        "# 1. Imports & Setup\n",
        "# -----------------------------\n",
        "import os\n",
        "from typing import TypedDict, Annotated, Sequence\n",
        "from operator import add as add_messages\n",
        "\n",
        "from google.colab import userdata\n",
        "from dotenv import load_dotenv\n",
        "\n",
        "# LangGraph / LangChain imports\n",
        "from langgraph.graph import StateGraph, END\n",
        "from langchain_core.messages import BaseMessage, SystemMessage, HumanMessage, ToolMessage\n",
        "from langchain_core.tools import tool\n",
        "from langchain_openai import ChatOpenAI, OpenAIEmbeddings\n",
        "from langchain_community.document_loaders import PyPDFLoader\n",
        "from langchain.text_splitter import RecursiveCharacterTextSplitter\n",
        "from langchain_chroma import Chroma\n",
        "\n",
        "from IPython.display import Image, display"
      ],
      "metadata": {
        "id": "-DLrdX3dKVJK"
      },
      "execution_count": 2,
      "outputs": []
    },
    {
      "cell_type": "code",
      "source": [
        "# -----------------------------\n",
        "# 2. LLM & Embeddings\n",
        "# -----------------------------\n",
        "llm = ChatOpenAI(\n",
        "    model=\"gpt-4o-mini\",\n",
        "    api_key=userdata.get(\"OPENAI_API_KEY\"),\n",
        "    temperature=0  # deterministic, less hallucination\n",
        ")\n",
        "\n",
        "embeddings = OpenAIEmbeddings(\n",
        "    model=\"text-embedding-3-small\",\n",
        "    api_key=userdata.get(\"OPENAI_API_KEY\")\n",
        ")"
      ],
      "metadata": {
        "id": "O56igaQPKY3x"
      },
      "execution_count": 3,
      "outputs": []
    },
    {
      "cell_type": "code",
      "source": [
        "# -----------------------------\n",
        "# 3. Load PDF & Build Vectorstore\n",
        "# -----------------------------\n",
        "pdf_path = \"Stock_Market_Performance_2024.pdf\"\n",
        "if not os.path.exists(pdf_path):\n",
        "    raise FileNotFoundError(f\"PDF file not found: {pdf_path}\")\n",
        "\n",
        "pdf_loader = PyPDFLoader(pdf_path)\n",
        "pages = pdf_loader.load()\n",
        "print(f\"✅ PDF loaded with {len(pages)} pages\")\n",
        "\n",
        "# Chunk text\n",
        "splitter = RecursiveCharacterTextSplitter(chunk_size=1000, chunk_overlap=200)\n",
        "docs = splitter.split_documents(pages)\n",
        "\n",
        "persist_dir = \"stock_market_db\"\n",
        "os.makedirs(persist_dir, exist_ok=True)\n",
        "\n",
        "vectorstore = Chroma.from_documents(\n",
        "    documents=docs,\n",
        "    embedding=embeddings,\n",
        "    persist_directory=persist_dir,\n",
        "    collection_name=\"stock_market\"\n",
        ")\n",
        "print(\"✅ ChromaDB vector store created\")\n",
        "\n",
        "retriever = vectorstore.as_retriever(search_type=\"similarity\", search_kwargs={\"k\": 5})\n"
      ],
      "metadata": {
        "colab": {
          "base_uri": "https://localhost:8080/"
        },
        "id": "7oygq--vKeT0",
        "outputId": "8e7b4ea0-80ba-4498-850f-bf5c20b2b417"
      },
      "execution_count": 5,
      "outputs": [
        {
          "output_type": "stream",
          "name": "stdout",
          "text": [
            "✅ PDF loaded with 9 pages\n",
            "✅ ChromaDB vector store created\n"
          ]
        }
      ]
    },
    {
      "cell_type": "code",
      "source": [
        "# -----------------------------\n",
        "# 4. Define Tool\n",
        "# -----------------------------\n",
        "@tool\n",
        "def retriever_tool(query: str) -> str:\n",
        "    \"\"\"Search the Stock Market Performance 2024 document for relevant info.\"\"\"\n",
        "    docs = retriever.invoke(query)\n",
        "    if not docs:\n",
        "        return \"No relevant info found in the Stock Market 2024 document.\"\n",
        "    return \"\\n\\n\".join([f\"Chunk {i+1}:\\n{doc.page_content}\" for i, doc in enumerate(docs)])\n",
        "\n",
        "tools = [retriever_tool]\n",
        "llm = llm.bind_tools(tools)   # connect tools to LLM\n",
        "tools_dict = {tool.name: tool for tool in tools}"
      ],
      "metadata": {
        "id": "-TtIOpgcKoRo"
      },
      "execution_count": 6,
      "outputs": []
    },
    {
      "cell_type": "code",
      "source": [
        "# -----------------------------\n",
        "# 5. LangGraph State\n",
        "# -----------------------------\n",
        "class AgentState(TypedDict):\n",
        "    messages: Annotated[Sequence[BaseMessage], add_messages]\n",
        "\n",
        "def should_continue(state: AgentState):\n",
        "    \"\"\"Check if the LLM requested a tool call.\"\"\"\n",
        "    last = state[\"messages\"][-1]\n",
        "    return hasattr(last, \"tool_calls\") and len(last.tool_calls) > 0\n",
        "\n",
        "system_prompt = \"\"\"\n",
        "You are an AI assistant answering questions about Stock Market Performance in 2024.\n",
        "- Use the retriever tool to search the document.\n",
        "- Always cite chunks you use.\n",
        "- Be precise and avoid hallucination.\n",
        "\"\"\"\n"
      ],
      "metadata": {
        "id": "gSD3qH65KrXQ"
      },
      "execution_count": 7,
      "outputs": []
    },
    {
      "cell_type": "code",
      "source": [
        "# -----------------------------\n",
        "# 6. Node Functions\n",
        "# -----------------------------\n",
        "def query_llm(state: AgentState) -> AgentState:\n",
        "    \"\"\"Ask LLM what to do next (answer or call tool).\"\"\"\n",
        "    messages = [SystemMessage(content=system_prompt)] + list(state[\"messages\"])\n",
        "    response = llm.invoke(messages)\n",
        "    return {\"messages\": [response]}\n",
        "\n",
        "def use_retriever(state: AgentState) -> AgentState:\n",
        "    \"\"\"Run retriever tool if LLM requested it.\"\"\"\n",
        "    tool_calls = state[\"messages\"][-1].tool_calls\n",
        "    results = []\n",
        "    for call in tool_calls:\n",
        "        tool_name, query = call[\"name\"], call[\"args\"].get(\"query\", \"\")\n",
        "        print(f\"🔧 Running Tool: {tool_name} | Query: {query}\")\n",
        "        if tool_name not in tools_dict:\n",
        "            result = f\"❌ Tool {tool_name} not found.\"\n",
        "        else:\n",
        "            result = tools_dict[tool_name].invoke(query)\n",
        "        results.append(ToolMessage(tool_call_id=call[\"id\"], name=tool_name, content=result))\n",
        "    return {\"messages\": results}\n"
      ],
      "metadata": {
        "id": "LYu6Muz8KwTn"
      },
      "execution_count": 8,
      "outputs": []
    },
    {
      "cell_type": "code",
      "source": [
        "# -----------------------------\n",
        "# 7. Build Graph\n",
        "# -----------------------------\n",
        "graph = StateGraph(AgentState)\n",
        "graph.add_node(\"Query LLM\", query_llm)\n",
        "graph.add_node(\"Use Retriever Tool\", use_retriever)\n",
        "\n",
        "graph.add_conditional_edges(\n",
        "    \"Query LLM\",\n",
        "    should_continue,\n",
        "    {True: \"Use Retriever Tool\", False: END}\n",
        ")\n",
        "graph.add_edge(\"Use Retriever Tool\", \"Query LLM\")\n",
        "graph.set_entry_point(\"Query LLM\")\n",
        "\n",
        "rag_agent = graph.compile()"
      ],
      "metadata": {
        "id": "UpQYqAJYKz9T"
      },
      "execution_count": 9,
      "outputs": []
    },
    {
      "cell_type": "code",
      "source": [
        "# -----------------------------\n",
        "# 8. Visualize Graph\n",
        "# -----------------------------\n",
        "display(Image(rag_agent.get_graph().draw_mermaid_png()))"
      ],
      "metadata": {
        "colab": {
          "base_uri": "https://localhost:8080/",
          "height": 290
        },
        "id": "jZ0E7IqMK3D1",
        "outputId": "78b40ddf-a93b-431c-cf98-7b504a6af7c7"
      },
      "execution_count": 10,
      "outputs": [
        {
          "output_type": "display_data",
          "data": {
            "image/png": "[encoded data removed]",
            "text/plain": [
              "<IPython.core.display.Image object>"
            ]
          },
          "metadata": {}
        }
      ]
    },
    {
      "cell_type": "code",
      "source": [
        "# -----------------------------\n",
        "# 9. Run Interactive Agent\n",
        "# -----------------------------\n",
        "def run_agent():\n",
        "    print(\"\\n=== Stock Market RAG Agent ===\")\n",
        "    while True:\n",
        "        q = input(\"\\nAsk your question (or type exit): \")\n",
        "        if q.lower() in [\"exit\", \"quit\"]:\n",
        "            break\n",
        "        messages = [HumanMessage(content=q)]\n",
        "        result = rag_agent.invoke({\"messages\": messages})\n",
        "        print(\"\\n=== ANSWER ===\")\n",
        "        print(result[\"messages\"][-1].content)\n",
        "\n",
        "run_agent()"
      ],
      "metadata": {
        "colab": {
          "base_uri": "https://localhost:8080/"
        },
        "id": "xyvwHjCRLIw2",
        "outputId": "439c9d15-cb12-4a4d-eb8b-cf1c51e41f7e"
      },
      "execution_count": 11,
      "outputs": [
        {
          "name": "stdout",
          "output_type": "stream",
          "text": [
            "\n",
            "=== Stock Market RAG Agent ===\n",
            "\n",
            "Ask your question (or type exit): Which is the best stock of 2024?\n",
            "🔧 Running Tool: retriever_tool | Query: best stock of 2024\n",
            "\n",
            "=== ANSWER ===\n",
            "The best-performing stock of 2024 was Palantir Technologies (PLTR), which saw its stock price soar by about 340% throughout the year. This remarkable increase was attributed to the company's first profitable quarters and its positioning as a key player in artificial intelligence for both government and enterprise sectors. Palantir's share price climbed from single-digit levels to the mid-$20s by the end of 2024, reflecting a significant turnaround in investor sentiment and excitement over its AI platforms (Chunk 3). \n",
            "\n",
            "Additionally, the technology sector overall had a stellar year, with the S&P 500 gaining roughly 25%, driven by strong performances from major companies like Apple, Alphabet, and Meta, as well as high-growth tech startups (Chunk 2).\n",
            "\n",
            "Ask your question (or type exit): list the companies given in the document\n",
            "🔧 Running Tool: retriever_tool | Query: list of companies\n",
            "\n",
            "=== ANSWER ===\n",
            "The document mentions several companies that performed notably in the stock market in 2024. Here is a list of those companies:\n",
            "\n",
            "1. **Apple Inc. (AAPL)**\n",
            "2. **Microsoft**\n",
            "3. **Alphabet (Google)**\n",
            "4. **Amazon**\n",
            "5. **Meta (Facebook)**\n",
            "6. **Nvidia**\n",
            "7. **Tesla**\n",
            "8. **Palantir Technologies (PLTR)**\n",
            "9. **Netflix**\n",
            "10. **Arm**\n",
            "\n",
            "These companies were highlighted for their significant contributions to market performance, particularly in the technology sector, with many achieving substantial stock price increases throughout the year.\n",
            "\n",
            "Ask your question (or type exit): can give me a table showing top 5 companies and their stock price?\n",
            "🔧 Running Tool: retriever_tool | Query: top 5 companies stock price 2024\n",
            "\n",
            "=== ANSWER ===\n",
            "Here is a table showing the top 5 companies and their stock prices in 2024:\n",
            "\n",
            "| Company          | Stock Price (2024) | Performance (%) |\n",
            "|------------------|---------------------|------------------|\n",
            "| Apple Inc. (AAPL) | Not specified        | +170%            |\n",
            "| Alphabet Inc. (GOOGL) | $189               | +40%             |\n",
            "| Meta Platforms (META) | Not specified        | Not specified     |\n",
            "| Nvidia (NVDA)    | Not specified        | Not specified     |\n",
            "| Tesla (TSLA)     | Not specified        | Not specified     |\n",
            "\n",
            "- Apple saw its stock skyrocket by approximately 170% in 2024, driven by demand for AI-focused chips.\n",
            "- Alphabet's stock price rose by nearly 40%, closing around $189 per share, contributing significantly to its market value (Chunk 1, Chunk 3).\n",
            "\n",
            "Unfortunately, specific stock prices for Meta, Nvidia, and Tesla were not provided in the retrieved information.\n",
            "\n",
            "Ask your question (or type exit): exit\n"
          ]
        }
      ]
    }
  ]
}