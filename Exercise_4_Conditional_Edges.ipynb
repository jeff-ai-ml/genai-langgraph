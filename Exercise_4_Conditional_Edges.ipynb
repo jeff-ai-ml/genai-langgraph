{
  "nbformat": 4,
  "nbformat_minor": 0,
  "metadata": {
    "colab": {
      "provenance": [],
      "authorship_tag": "ABX9TyN5aLzRWOr+Pue9xgsOrTNH",
      "include_colab_link": true
    },
    "kernelspec": {
      "name": "python3",
      "display_name": "Python 3"
    },
    "language_info": {
      "name": "python"
    }
  },
  "cells": [
    {
      "cell_type": "markdown",
      "metadata": {
        "id": "view-in-github",
        "colab_type": "text"
      },
      "source": [
        "<a href=\"https://colab.research.google.com/github/jeff-ai-ml/genai-langgraph/blob/main/Exercise_4_Conditional_Edges.ipynb\" target=\"_parent\"><img src=\"https://colab.research.google.com/assets/colab-badge.svg\" alt=\"Open In Colab\"/></a>"
      ]
    },
    {
      "cell_type": "code",
      "execution_count": null,
      "metadata": {
        "colab": {
          "base_uri": "https://localhost:8080/"
        },
        "id": "FChurJWlREGx",
        "outputId": "e151f175-9f25-4ff6-f943-af046d7d520d"
      },
      "outputs": [
        {
          "output_type": "stream",
          "name": "stdout",
          "text": [
            "Requirement already satisfied: langgraph in /usr/local/lib/python3.11/dist-packages (0.6.4)\n",
            "Requirement already satisfied: langchain-core>=0.1 in /usr/local/lib/python3.11/dist-packages (from langgraph) (0.3.72)\n",
            "Requirement already satisfied: langgraph-checkpoint<3.0.0,>=2.1.0 in /usr/local/lib/python3.11/dist-packages (from langgraph) (2.1.1)\n",
            "Requirement already satisfied: langgraph-prebuilt<0.7.0,>=0.6.0 in /usr/local/lib/python3.11/dist-packages (from langgraph) (0.6.4)\n",
            "Requirement already satisfied: langgraph-sdk<0.3.0,>=0.2.0 in /usr/local/lib/python3.11/dist-packages (from langgraph) (0.2.0)\n",
            "Requirement already satisfied: pydantic>=2.7.4 in /usr/local/lib/python3.11/dist-packages (from langgraph) (2.11.7)\n",
            "Requirement already satisfied: xxhash>=3.5.0 in /usr/local/lib/python3.11/dist-packages (from langgraph) (3.5.0)\n",
            "Requirement already satisfied: langsmith>=0.3.45 in /usr/local/lib/python3.11/dist-packages (from langchain-core>=0.1->langgraph) (0.4.12)\n",
            "Requirement already satisfied: tenacity!=8.4.0,<10.0.0,>=8.1.0 in /usr/local/lib/python3.11/dist-packages (from langchain-core>=0.1->langgraph) (8.5.0)\n",
            "Requirement already satisfied: jsonpatch<2.0,>=1.33 in /usr/local/lib/python3.11/dist-packages (from langchain-core>=0.1->langgraph) (1.33)\n",
            "Requirement already satisfied: PyYAML>=5.3 in /usr/local/lib/python3.11/dist-packages (from langchain-core>=0.1->langgraph) (6.0.2)\n",
            "Requirement already satisfied: typing-extensions>=4.7 in /usr/local/lib/python3.11/dist-packages (from langchain-core>=0.1->langgraph) (4.14.1)\n",
            "Requirement already satisfied: packaging>=23.2 in /usr/local/lib/python3.11/dist-packages (from langchain-core>=0.1->langgraph) (25.0)\n",
            "Requirement already satisfied: ormsgpack>=1.10.0 in /usr/local/lib/python3.11/dist-packages (from langgraph-checkpoint<3.0.0,>=2.1.0->langgraph) (1.10.0)\n",
            "Requirement already satisfied: httpx>=0.25.2 in /usr/local/lib/python3.11/dist-packages (from langgraph-sdk<0.3.0,>=0.2.0->langgraph) (0.28.1)\n",
            "Requirement already satisfied: orjson>=3.10.1 in /usr/local/lib/python3.11/dist-packages (from langgraph-sdk<0.3.0,>=0.2.0->langgraph) (3.11.1)\n",
            "Requirement already satisfied: annotated-types>=0.6.0 in /usr/local/lib/python3.11/dist-packages (from pydantic>=2.7.4->langgraph) (0.7.0)\n",
            "Requirement already satisfied: pydantic-core==2.33.2 in /usr/local/lib/python3.11/dist-packages (from pydantic>=2.7.4->langgraph) (2.33.2)\n",
            "Requirement already satisfied: typing-inspection>=0.4.0 in /usr/local/lib/python3.11/dist-packages (from pydantic>=2.7.4->langgraph) (0.4.1)\n",
            "Requirement already satisfied: anyio in /usr/local/lib/python3.11/dist-packages (from httpx>=0.25.2->langgraph-sdk<0.3.0,>=0.2.0->langgraph) (4.10.0)\n",
            "Requirement already satisfied: certifi in /usr/local/lib/python3.11/dist-packages (from httpx>=0.25.2->langgraph-sdk<0.3.0,>=0.2.0->langgraph) (2025.8.3)\n",
            "Requirement already satisfied: httpcore==1.* in /usr/local/lib/python3.11/dist-packages (from httpx>=0.25.2->langgraph-sdk<0.3.0,>=0.2.0->langgraph) (1.0.9)\n",
            "Requirement already satisfied: idna in /usr/local/lib/python3.11/dist-packages (from httpx>=0.25.2->langgraph-sdk<0.3.0,>=0.2.0->langgraph) (3.10)\n",
            "Requirement already satisfied: h11>=0.16 in /usr/local/lib/python3.11/dist-packages (from httpcore==1.*->httpx>=0.25.2->langgraph-sdk<0.3.0,>=0.2.0->langgraph) (0.16.0)\n",
            "Requirement already satisfied: jsonpointer>=1.9 in /usr/local/lib/python3.11/dist-packages (from jsonpatch<2.0,>=1.33->langchain-core>=0.1->langgraph) (3.0.0)\n",
            "Requirement already satisfied: requests-toolbelt>=1.0.0 in /usr/local/lib/python3.11/dist-packages (from langsmith>=0.3.45->langchain-core>=0.1->langgraph) (1.0.0)\n",
            "Requirement already satisfied: requests>=2.0.0 in /usr/local/lib/python3.11/dist-packages (from langsmith>=0.3.45->langchain-core>=0.1->langgraph) (2.32.3)\n",
            "Requirement already satisfied: zstandard>=0.23.0 in /usr/local/lib/python3.11/dist-packages (from langsmith>=0.3.45->langchain-core>=0.1->langgraph) (0.23.0)\n",
            "Requirement already satisfied: charset-normalizer<4,>=2 in /usr/local/lib/python3.11/dist-packages (from requests>=2.0.0->langsmith>=0.3.45->langchain-core>=0.1->langgraph) (3.4.2)\n",
            "Requirement already satisfied: urllib3<3,>=1.21.1 in /usr/local/lib/python3.11/dist-packages (from requests>=2.0.0->langsmith>=0.3.45->langchain-core>=0.1->langgraph) (2.5.0)\n",
            "Requirement already satisfied: sniffio>=1.1 in /usr/local/lib/python3.11/dist-packages (from anyio->httpx>=0.25.2->langgraph-sdk<0.3.0,>=0.2.0->langgraph) (1.3.1)\n"
          ]
        }
      ],
      "source": [
        "!pip install langgraph"
      ]
    },
    {
      "cell_type": "code",
      "source": [
        "from typing import TypedDict\n",
        "from langgraph.graph import StateGraph, START, END"
      ],
      "metadata": {
        "id": "T9kum3XaRUCi"
      },
      "execution_count": null,
      "outputs": []
    },
    {
      "cell_type": "code",
      "source": [
        "class AgentState(TypedDict):\n",
        "  number1: int\n",
        "  operation1: str\n",
        "  number2: int\n",
        "  answer1:int\n",
        "  number3:int\n",
        "  operation2: str\n",
        "  number4:int\n",
        "  answer2:int\n",
        "\n",
        "\n"
      ],
      "metadata": {
        "id": "_SFv8jewRex8"
      },
      "execution_count": null,
      "outputs": []
    },
    {
      "cell_type": "code",
      "source": [
        "def add_node1(state: AgentState) -> AgentState:\n",
        "  \"\"\"This is addition node1 and it will add number1 and number2\"\"\"\n",
        "  state[\"answer1\"] = f\"The Addition of {state['number1}']} and {state['number2']} is : {state['number1'] + state['number2']}\"\n",
        "  return state\n",
        "def subtract_node1(state: AgentState) -> AgentState:\n",
        "  \"\"\"This is subtraction node1 and it will subtract number1 and number2\"\"\"\n",
        "  state[\"answer1\"] = f\"The Subtraction of {state['number1']} and {state['number2']} is : {state['number1'] - state['number2']}\"\n",
        "  return state\n",
        "\n",
        "def decide_next_node_1(state: AgentState) -> AgentState:\n",
        "  \"\"\"This node decides which node to be secected for execution based on the operation passed for num1 and num2\"\"\"\n",
        "  if state[\"operation1\"] == \"+\":\n",
        "    return \"addition_operation_1\"\n",
        "  elif state[\"operation1\"] == \"-\":\n",
        "    return \"subtraction_operation_1\"\n",
        "\n",
        "def add_node2(state: AgentState) -> AgentState:\n",
        "  \"\"\"This is addition node2 and it will add number1 and number2\"\"\"\n",
        "  state[\"answer2\"] = f\"The Addition of {state['number3']} and {state['number4']} is : {state['number3'] + state['number4']}\"\n",
        "  return state\n",
        "def subtract_node2(state: AgentState) -> AgentState:\n",
        "  \"\"\"This is subtraction node2 and it will subtract number1 and number2\"\"\"\n",
        "  state[\"answer2\"] = f\"The Subtraction of {state['number3']} and {state['number4']} is {state['number3'] - state['number4']}\"\n",
        "  return state\n",
        "\n",
        "\n",
        "def decide_next_node_2(state: AgentState) -> AgentState:\n",
        "  \"\"\"This node decides which node to be secected for execution based on the operation passed for num3 and num4\"\"\"\n",
        "  if state[\"operation2\"] == \"+\":\n",
        "    return \"addition_operation_2\"\n",
        "  elif state[\"operation2\"] == \"-\":\n",
        "    return \"subtraction_operation_2\"\n"
      ],
      "metadata": {
        "id": "J-yCxvhLSASf"
      },
      "execution_count": null,
      "outputs": []
    },
    {
      "cell_type": "code",
      "source": [
        "graph = StateGraph(AgentState)\n",
        "graph.add_node(\"add node 1\", add_node1)\n",
        "graph.add_node(\"subtract node 1\", subtract_node1)\n",
        "graph.add_node(\"router1\", lambda state:state)\n",
        "\n",
        "\n",
        "graph.add_edge(START, \"router1\")\n",
        "\n",
        "graph.add_conditional_edges(\n",
        "    \"router1\",\n",
        "    decide_next_node_1,\n",
        "    {\n",
        "        \"addition_operation_1\" : \"add node 1\",\n",
        "        \"subtraction_operation_1\" : \"subtract node 1\"\n",
        "    }\n",
        ")\n",
        "\n",
        "\n",
        "graph.add_node(\"router2\", lambda state:state)\n",
        "\n",
        "graph.add_edge(\"add node 1\", \"router2\")\n",
        "graph.add_edge(\"subtract node 1\", \"router2\")\n",
        "\n",
        "\n",
        "\n",
        "#second section!\n",
        "\n",
        "graph.add_node(\"add node 2\", add_node2)\n",
        "graph.add_node(\"subtract node 2\", subtract_node2)\n",
        "\n",
        "graph.add_conditional_edges(\n",
        "    \"router2\",\n",
        "    decide_next_node_2,\n",
        "    {\n",
        "        \"addition_operation_2\" : \"add node 2\",\n",
        "        \"subtraction_operation_2\" : \"subtract node 2\"\n",
        "    }\n",
        ")\n",
        "\n",
        "graph.add_edge(\"add node 2\", END)\n",
        "graph.add_edge(\"subtract node 2\", END)\n",
        "\n",
        "app = graph.compile()"
      ],
      "metadata": {
        "id": "eKPzCVFBVDvd"
      },
      "execution_count": null,
      "outputs": []
    },
    {
      "cell_type": "code",
      "source": [
        "graph_code = app.get_graph().draw_mermaid()  # This gives you the raw Mermaid text\n",
        "print(graph_code)"
      ],
      "metadata": {
        "colab": {
          "base_uri": "https://localhost:8080/"
        },
        "id": "i8OHbCPhdbNv",
        "outputId": "8cfe06e3-f63d-4ca0-bc64-b70ce3611bfc"
      },
      "execution_count": null,
      "outputs": [
        {
          "output_type": "stream",
          "name": "stdout",
          "text": [
            "---\n",
            "config:\n",
            "  flowchart:\n",
            "    curve: linear\n",
            "---\n",
            "graph TD;\n",
            "\t__start__([<p>__start__</p>]):::first\n",
            "\tadd_node_1(add node 1)\n",
            "\tsubtract_node_1(subtract node 1)\n",
            "\trouter1(router1)\n",
            "\trouter2(router2)\n",
            "\tadd_node_2(add node 2)\n",
            "\tsubtract_node_2(subtract node 2)\n",
            "\t__end__([<p>__end__</p>]):::last\n",
            "\t__start__ --> router1;\n",
            "\tadd_node_1 --> router2;\n",
            "\trouter1 -. &nbsp;addition_operation_1&nbsp; .-> add_node_1;\n",
            "\trouter1 -. &nbsp;subtraction_operation_1&nbsp; .-> subtract_node_1;\n",
            "\trouter2 -. &nbsp;addition_operation_2&nbsp; .-> add_node_2;\n",
            "\trouter2 -. &nbsp;subtraction_operation_2&nbsp; .-> subtract_node_2;\n",
            "\tsubtract_node_1 --> router2;\n",
            "\tadd_node_2 --> __end__;\n",
            "\tsubtract_node_2 --> __end__;\n",
            "\tclassDef default fill:#f2f0ff,line-height:1.2\n",
            "\tclassDef first fill-opacity:0\n",
            "\tclassDef last fill:#bfb6fc\n",
            "\n"
          ]
        }
      ]
    },
    {
      "cell_type": "code",
      "source": [
        "from IPython.display import Image, display\n",
        "display(Image(app.get_graph().draw_mermaid_png()))"
      ],
      "metadata": {
        "colab": {
          "base_uri": "https://localhost:8080/",
          "height": 596
        },
        "id": "sINQRtbacbJf",
        "outputId": "3a12e2fa-d357-4f12-e3f1-cd107a3cc8b5"
      },
      "execution_count": null,
      "outputs": [
        {
          "output_type": "display_data",
          "data": {
            "image/png": "[encoded data removed]",
            "text/plain": [
              "<IPython.core.display.Image object>"
            ]
          },
          "metadata": {}
        }
      ]
    },
    {
      "cell_type": "code",
      "source": [
        "intial_state = AgentState(number1 = 10 , operation1 = \"-\", number2 = 5, number3 = 7 , operation2 = \"+\", number4 = 2 )\n",
        "\n",
        "result = app.invoke(intial_state)\n",
        "\n",
        "print(result)\n",
        "\n",
        "print(result[\"answer1\"])\n",
        "print(result[\"answer2\"])"
      ],
      "metadata": {
        "colab": {
          "base_uri": "https://localhost:8080/"
        },
        "id": "cu_tzUT5f_Zt",
        "outputId": "3c943363-6e93-41e5-a9d0-6c46be69ef62"
      },
      "execution_count": null,
      "outputs": [
        {
          "output_type": "stream",
          "name": "stdout",
          "text": [
            "{'number1': 10, 'operation1': '-', 'number2': 5, 'answer1': 'The Subtraction of 10 and 5 is : 5', 'number3': 7, 'operation2': '+', 'number4': 2, 'answer2': 'The Addition of 7 and 2 is : 9'}\n",
            "The Subtraction of 10 and 5 is : 5\n",
            "The Addition of 7 and 2 is : 9\n"
          ]
        }
      ]
    }
  ]
}