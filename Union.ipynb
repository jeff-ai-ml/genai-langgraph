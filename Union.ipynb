{
  "nbformat": 4,
  "nbformat_minor": 0,
  "metadata": {
    "colab": {
      "provenance": [],
      "authorship_tag": "ABX9TyN4NxGGxYxJ0ec1alzjv6Gf",
      "include_colab_link": true
    },
    "kernelspec": {
      "name": "python3",
      "display_name": "Python 3"
    },
    "language_info": {
      "name": "python"
    }
  },
  "cells": [
    {
      "cell_type": "markdown",
      "metadata": {
        "id": "view-in-github",
        "colab_type": "text"
      },
      "source": [
        "<a href=\"https://colab.research.google.com/github/jeff-ai-ml/genai-langgraph/blob/main/Union.ipynb\" target=\"_parent\"><img src=\"https://colab.research.google.com/assets/colab-badge.svg\" alt=\"Open In Colab\"/></a>"
      ]
    },
    {
      "cell_type": "markdown",
      "source": [
        "● Union lets you say that a value can be more than one type\n",
        "\n",
        "● Flexible and easy to code\n",
        "\n",
        "● Type Safety as it can provide hints to help catch incorrect usage"
      ],
      "metadata": {
        "id": "wEMla8e4jnze"
      }
    },
    {
      "cell_type": "code",
      "execution_count": 22,
      "metadata": {
        "id": "m3Gc1ebcjl8c"
      },
      "outputs": [],
      "source": [
        "from typing import Union"
      ]
    },
    {
      "cell_type": "code",
      "source": [
        "# Normal Addition Example\n",
        "\n",
        "def add(a,b):\n",
        "  print(a+b)\n",
        "\n",
        "add (5,4)\n",
        "add(\"Hi\",\"Hello\")"
      ],
      "metadata": {
        "colab": {
          "base_uri": "https://localhost:8080/"
        },
        "id": "v8ho6hWIj6xH",
        "outputId": "024a34a1-e1d9-4469-f909-fe1c4a5fae5c"
      },
      "execution_count": 23,
      "outputs": [
        {
          "output_type": "stream",
          "name": "stdout",
          "text": [
            "9\n",
            "HiHello\n"
          ]
        }
      ]
    },
    {
      "cell_type": "code",
      "source": [
        "# Union addition exampel\n",
        "\n",
        "def uadd(ua: Union[int,float,str], ub: Union[float,str] ):\n",
        "  print(type(ua))\n",
        "  print(type(ub))\n",
        "  if type(ua) == type(ub):\n",
        "    print(ua+ub)\n",
        "  elif isinstance(ua , int) and isinstance(ub, float):\n",
        "    print(ua+ub)\n",
        "  else:\n",
        "    print(\"Given variable types can't be added, please check your data\")\n",
        "\n",
        "uadd(2,\"hi\")\n"
      ],
      "metadata": {
        "colab": {
          "base_uri": "https://localhost:8080/"
        },
        "id": "Ft7XHBd2kpd4",
        "outputId": "26fc6e29-4786-4b8d-b99b-8553ab8d82a4"
      },
      "execution_count": 24,
      "outputs": [
        {
          "output_type": "stream",
          "name": "stdout",
          "text": [
            "<class 'int'>\n",
            "<class 'str'>\n",
            "Given variable types can't be added, please check your data\n"
          ]
        }
      ]
    },
    {
      "cell_type": "code",
      "source": [
        "uadd(\"Hello\", \"Hi\")"
      ],
      "metadata": {
        "colab": {
          "base_uri": "https://localhost:8080/"
        },
        "id": "Es-eyu53m_Vb",
        "outputId": "e7aedab7-dd57-48db-83a9-09102ee8aae9"
      },
      "execution_count": 25,
      "outputs": [
        {
          "output_type": "stream",
          "name": "stdout",
          "text": [
            "<class 'str'>\n",
            "<class 'str'>\n",
            "HelloHi\n"
          ]
        }
      ]
    },
    {
      "cell_type": "code",
      "source": [
        "uadd(3,4.1)"
      ],
      "metadata": {
        "colab": {
          "base_uri": "https://localhost:8080/"
        },
        "id": "NXjlIGh4nDmX",
        "outputId": "243734bf-8f8f-4c69-f22f-b0fe3ae0765d"
      },
      "execution_count": 26,
      "outputs": [
        {
          "output_type": "stream",
          "name": "stdout",
          "text": [
            "<class 'int'>\n",
            "<class 'float'>\n",
            "7.1\n"
          ]
        }
      ]
    },
    {
      "cell_type": "code",
      "source": [],
      "metadata": {
        "id": "X0I88FfdnEaE"
      },
      "execution_count": 26,
      "outputs": []
    }
  ]
}